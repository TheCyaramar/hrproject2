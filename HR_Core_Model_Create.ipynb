{
 "cells": [
  {
   "cell_type": "code",
   "execution_count": 161,
   "id": "0fcfc3aa",
   "metadata": {},
   "outputs": [],
   "source": [
    "# Importing all the required libraries\n",
    "\n",
    "from sklearn.preprocessing import OneHotEncoder\n",
    "from sklearn.model_selection import train_test_split\n",
    "import pandas as pd\n",
    "import numpy as np\n",
    "import os\n",
    "from sklearn.ensemble import RandomForestClassifier"
   ]
  },
  {
   "cell_type": "code",
   "execution_count": 162,
   "id": "b649ff21",
   "metadata": {},
   "outputs": [],
   "source": [
    "# Loading the datasets\n",
    "train = pd.read_csv('aug_train.csv')"
   ]
  },
  {
   "cell_type": "code",
   "execution_count": 163,
   "id": "ace23cd7",
   "metadata": {},
   "outputs": [],
   "source": [
    "#removing 'enrollee_id' from data since it is not required in model\n",
    "train.drop(['enrollee_id','city'],axis=1,inplace=True)"
   ]
  },
  {
   "cell_type": "markdown",
   "id": "353afa92",
   "metadata": {},
   "source": [
    "### Separating independent and dependent variables"
   ]
  },
  {
   "cell_type": "code",
   "execution_count": 164,
   "id": "4ec902e9",
   "metadata": {},
   "outputs": [],
   "source": [
    "X = train.drop(columns=['target'])\n",
    "\n",
    "y = train['target']"
   ]
  },
  {
   "cell_type": "code",
   "execution_count": 165,
   "id": "b527022a",
   "metadata": {},
   "outputs": [],
   "source": [
    "# Encoding categorical variables\n",
    "X_cats = (OneHotEncoder(sparse=False,handle_unknown='ignore')\n",
    "                   .fit_transform(X[['gender','relevent_experience',\n",
    "                           'enrolled_university','education_level',\n",
    "                           'major_discipline','company_type',\n",
    "                           'last_new_job','experience','company_size']]))\n",
    "X_cats = pd.DataFrame(X_cats)"
   ]
  },
  {
   "cell_type": "code",
   "execution_count": 166,
   "id": "28f9295f",
   "metadata": {},
   "outputs": [],
   "source": [
    "# Merging encoded categorical variables with numeric variables\n",
    "X_numerical = X.drop(columns=['gender','relevent_experience',\n",
    "                                  'enrolled_university','education_level',\n",
    "                                 'major_discipline','company_type',\n",
    "                                  'last_new_job','experience','company_size'])\n",
    "col_names = X_numerical.columns\n",
    "X_numerical = pd.DataFrame(X_numerical, columns=col_names)\n",
    "X = X_numerical.join(X_cats)"
   ]
  },
  {
   "cell_type": "code",
   "execution_count": 167,
   "id": "0af6d72b",
   "metadata": {},
   "outputs": [],
   "source": [
    "# Since the Target has \"0\" far more than \"1\" we will just fill NA values with 0 for this problem\n",
    "X.fillna(0, inplace=True)"
   ]
  },
  {
   "cell_type": "code",
   "execution_count": 168,
   "id": "43b36755",
   "metadata": {},
   "outputs": [],
   "source": [
    "# Using SMOTE for handling class imbalance\n",
    "from imblearn.over_sampling import SMOTE\n",
    "smote = SMOTE(random_state = 0)\n",
    "X.columns = X.columns.astype('str')\n",
    "\n",
    "X_smote, y_smote = smote.fit_resample(X,y)\n"
   ]
  },
  {
   "cell_type": "code",
   "execution_count": 169,
   "id": "fed8d360",
   "metadata": {},
   "outputs": [],
   "source": [
    "# Splitting data into training and testing\n",
    "X_train, X_test, y_train, y_test = train_test_split(X_smote,\n",
    "                                                    y_smote,\n",
    "                                                    test_size=0.2,\n",
    "                                                    random_state=101)"
   ]
  },
  {
   "cell_type": "markdown",
   "id": "4f50d35c",
   "metadata": {},
   "source": [
    "#### From the above output, we can conclude that RandomForest is the best algorithm to go forward"
   ]
  },
  {
   "cell_type": "code",
   "execution_count": 172,
   "id": "52c75e1a",
   "metadata": {},
   "outputs": [
    {
     "data": {
      "text/plain": [
       "RandomForestClassifier(max_leaf_nodes=30, n_estimators=800, n_jobs=-1,\n",
       "                       oob_score=True, random_state=50)"
      ]
     },
     "execution_count": 172,
     "metadata": {},
     "output_type": "execute_result"
    }
   ],
   "source": [
    "# Running model on entire data \n",
    "#model = RandomForestClassifier(n_estimators=800,\n",
    "#                               min_samples_split=10,\n",
    "#                               min_samples_leaf=2, \n",
    "#                               max_depth=30)\n",
    "model = RandomForestClassifier(n_estimators=800 , oob_score = True, n_jobs = -1,\n",
    "                                  random_state =50, max_features = \"auto\",\n",
    "                                  max_leaf_nodes = 30)\n",
    "model.fit(X_train, y_train)"
   ]
  },
  {
   "cell_type": "code",
   "execution_count": 173,
   "id": "222157b6",
   "metadata": {},
   "outputs": [],
   "source": [
    "import pickle\n",
    "\n",
    "# Save the model to a file\n",
    "with open(\"model_hr.pkl\", \"wb\") as f:\n",
    "    pickle.dump(model, f)"
   ]
  },
  {
   "cell_type": "code",
   "execution_count": null,
   "id": "e8e67259",
   "metadata": {},
   "outputs": [],
   "source": []
  }
 ],
 "metadata": {
  "kernelspec": {
   "display_name": "Python 3 (ipykernel)",
   "language": "python",
   "name": "python3"
  },
  "language_info": {
   "codemirror_mode": {
    "name": "ipython",
    "version": 3
   },
   "file_extension": ".py",
   "mimetype": "text/x-python",
   "name": "python",
   "nbconvert_exporter": "python",
   "pygments_lexer": "ipython3",
   "version": "3.9.13"
  }
 },
 "nbformat": 4,
 "nbformat_minor": 5
}
